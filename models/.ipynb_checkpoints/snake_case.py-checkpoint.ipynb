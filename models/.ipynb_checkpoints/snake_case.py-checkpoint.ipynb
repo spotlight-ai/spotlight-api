{
 "cells": [
  {
   "cell_type": "code",
   "execution_count": 5,
   "metadata": {},
   "outputs": [
    {
     "ename": "ImportError",
     "evalue": "cannot import name 'db' from 'db' (/home/rishab/.local/lib/python3.8/site-packages/db/__init__.py)",
     "output_type": "error",
     "traceback": [
      "\u001b[0;31m---------------------------------------------------------------------------\u001b[0m",
      "\u001b[0;31mImportError\u001b[0m                               Traceback (most recent call last)",
      "\u001b[0;32m<ipython-input-5-3a5efe6fe037>\u001b[0m in \u001b[0;36m<module>\u001b[0;34m\u001b[0m\n\u001b[0;32m----> 1\u001b[0;31m \u001b[0;32mfrom\u001b[0m \u001b[0mdb\u001b[0m \u001b[0;32mimport\u001b[0m \u001b[0mdb\u001b[0m\u001b[0;34m\u001b[0m\u001b[0;34m\u001b[0m\u001b[0m\n\u001b[0m",
      "\u001b[0;31mImportError\u001b[0m: cannot import name 'db' from 'db' (/home/rishab/.local/lib/python3.8/site-packages/db/__init__.py)"
     ]
    }
   ],
   "source": [
    "from db import db\n"
   ]
  },
  {
   "cell_type": "code",
   "execution_count": 2,
   "metadata": {},
   "outputs": [
    {
     "ename": "SyntaxError",
     "evalue": "Missing parentheses in call to 'print'. Did you mean print(\"var\", var)? (__init__.py, line 69)",
     "output_type": "error",
     "traceback": [
      "Traceback \u001b[0;36m(most recent call last)\u001b[0m:\n",
      "  File \u001b[1;32m\"/usr/lib/python3/dist-packages/IPython/core/interactiveshell.py\"\u001b[0m, line \u001b[1;32m3331\u001b[0m, in \u001b[1;35mrun_code\u001b[0m\n    exec(code_obj, self.user_global_ns, self.user_ns)\n",
      "\u001b[0;36m  File \u001b[0;32m\"<ipython-input-2-ac75f901665e>\"\u001b[0;36m, line \u001b[0;32m1\u001b[0;36m, in \u001b[0;35m<module>\u001b[0;36m\u001b[0m\n\u001b[0;31m    from db import db\u001b[0m\n",
      "\u001b[0;36m  File \u001b[0;32m\"/home/rishab/.local/lib/python3.8/site-packages/db/__init__.py\"\u001b[0;36m, line \u001b[0;32m69\u001b[0m\n\u001b[0;31m    print \"var\", var\u001b[0m\n\u001b[0m          ^\u001b[0m\n\u001b[0;31mSyntaxError\u001b[0m\u001b[0;31m:\u001b[0m Missing parentheses in call to 'print'. Did you mean print(\"var\", var)?\n"
     ]
    }
   ],
   "source": [
    "from db import db\n",
    "\n",
    "class PIIColumnar(db.Model):\n",
    "    __tablename__ = \"snake_case\"\n",
    "    \n",
    "    pii_id = db.Column(db.Integer, primary_key=True)\n",
    "    dataset_id = db.Column(\n",
    "        db.Integer, db.ForeignKey(\"dataset.dataset_id\", ondelete=\"cascade\")\n",
    "    )\n",
    "    #pii_id = db.Column(db.Integer, db.ForeignKey(\"pii_marker_base.pii_id\", ondelete=\"cascade\"))\n",
    "    column_index = db.Column(db.Integer, nullable=False)\n",
    "    confidence = db.Column(db.Integer,nullable=False)\n",
    "    \n",
    "    def __init__(self, dataset_id, pii_type, column_index, confidence):\n",
    "        \n",
    "        self.dataset_id = dataset_id\n",
    "        self.pii_type=pii_type\n",
    "        self.column_index = column_index\n",
    "        self.confidence=confidence\n",
    "    def __repr__(self):\n",
    "        return (\n",
    "            f\"{self.__class__.__name__}({self.user_id}, {self.dataset_id}, {self.pii_id}, {self.col}, \"\n",
    "            f\"{self.confidence})\"\n",
    "        )\n",
    "    \n",
    "    def __str__(self):\n",
    "        return f\"PII {self.pii_id} ({self.column_index} - {self.confidence} confidence)\"    "
   ]
  },
  {
   "cell_type": "code",
   "execution_count": null,
   "metadata": {},
   "outputs": [],
   "source": []
  }
 ],
 "metadata": {
  "kernelspec": {
   "display_name": "Python 3",
   "language": "python",
   "name": "python3"
  },
  "language_info": {
   "codemirror_mode": {
    "name": "ipython",
    "version": 3
   },
   "file_extension": ".py",
   "mimetype": "text/x-python",
   "name": "python",
   "nbconvert_exporter": "python",
   "pygments_lexer": "ipython3",
   "version": "3.8.2"
  }
 },
 "nbformat": 4,
 "nbformat_minor": 4
}
